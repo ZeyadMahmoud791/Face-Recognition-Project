{
 "cells": [
  {
   "cell_type": "code",
   "execution_count": 1,
   "id": "2936c5ea",
   "metadata": {
    "_cell_guid": "b1076dfc-b9ad-4769-8c92-a6c4dae69d19",
    "_kg_hide-output": false,
    "_uuid": "8f2839f25d086af736a60e9eeb907d3b93b6e0e5",
    "execution": {
     "iopub.execute_input": "2022-03-12T12:55:38.281372Z",
     "iopub.status.busy": "2022-03-12T12:55:38.280251Z",
     "iopub.status.idle": "2022-03-12T12:55:39.762529Z",
     "shell.execute_reply": "2022-03-12T12:55:39.761442Z",
     "shell.execute_reply.started": "2022-03-12T11:26:58.090669Z"
    },
    "papermill": {
     "duration": 1.535916,
     "end_time": "2022-03-12T12:55:39.762724",
     "exception": false,
     "start_time": "2022-03-12T12:55:38.226808",
     "status": "completed"
    },
    "tags": []
   },
   "outputs": [],
   "source": [
    "import numpy as np\n",
    "import pandas as pd\n",
    "from sklearn.neighbors import KNeighborsClassifier\n",
    "from sklearn.metrics import confusion_matrix\n",
    "import matplotlib.pyplot as plt\n",
    "from mlxtend.plotting import plot_confusion_matrix\n",
    "import os\n",
    "import warnings\n",
    "warnings.filterwarnings('ignore')"
   ]
  },
  {
   "cell_type": "markdown",
   "id": "89c2eec9",
   "metadata": {
    "papermill": {
     "duration": 0.037813,
     "end_time": "2022-03-12T12:55:39.840355",
     "exception": false,
     "start_time": "2022-03-12T12:55:39.802542",
     "status": "completed"
    },
    "tags": []
   },
   "source": [
    "# Generate Data Matrix"
   ]
  },
  {
   "cell_type": "code",
   "execution_count": 2,
   "id": "1a836f4d",
   "metadata": {
    "execution": {
     "iopub.execute_input": "2022-03-12T12:55:39.921381Z",
     "iopub.status.busy": "2022-03-12T12:55:39.920375Z",
     "iopub.status.idle": "2022-03-12T12:55:39.924150Z",
     "shell.execute_reply": "2022-03-12T12:55:39.924717Z",
     "shell.execute_reply.started": "2022-03-12T11:27:03.606338Z"
    },
    "papermill": {
     "duration": 0.04642,
     "end_time": "2022-03-12T12:55:39.924886",
     "exception": false,
     "start_time": "2022-03-12T12:55:39.878466",
     "status": "completed"
    },
    "tags": []
   },
   "outputs": [],
   "source": [
    "number_of_persons = 40"
   ]
  },
  {
   "cell_type": "code",
   "execution_count": 3,
   "id": "b9764514",
   "metadata": {
    "execution": {
     "iopub.execute_input": "2022-03-12T12:55:40.004259Z",
     "iopub.status.busy": "2022-03-12T12:55:40.003248Z",
     "iopub.status.idle": "2022-03-12T12:55:43.403813Z",
     "shell.execute_reply": "2022-03-12T12:55:43.402545Z",
     "shell.execute_reply.started": "2022-03-12T11:27:06.779523Z"
    },
    "papermill": {
     "duration": 3.441424,
     "end_time": "2022-03-12T12:55:43.404020",
     "exception": false,
     "start_time": "2022-03-12T12:55:39.962596",
     "status": "completed"
    },
    "tags": []
   },
   "outputs": [
    {
     "name": "stdout",
     "output_type": "stream",
     "text": [
      "Reading Started\n",
      "Reading Finished\n",
      "400\n",
      "10304\n",
      "400\n"
     ]
    }
   ],
   "source": [
    "def read_single_image(image_path):\n",
    "    ans = []\n",
    "    with open(image_path, 'rb') as f:\n",
    "        for i in range(10304):\n",
    "            ans.append(ord(f.read(1)))\n",
    "    return ans\n",
    "    \n",
    "def construct_data_frame():\n",
    "    \n",
    "    images = []\n",
    "    persons = []\n",
    "    \n",
    "    path = r'C:\\Users\\Abdelrahman\\Face Recognition Dataset\\s'\n",
    "    print('Reading Started')\n",
    "    for x in range(1, number_of_persons + 1):\n",
    "        current_person_path = path + str(x) + '/'\n",
    "        for y in range(1, 11):\n",
    "            persons.append(str(x))\n",
    "            images.append(read_single_image(current_person_path + str(y) + '.pgm'))\n",
    "    print('Reading Finished')\n",
    "    \n",
    "    print(len(images))\n",
    "    print(len(images[0]))\n",
    "    print(len(persons))\n",
    "    \n",
    "    images = np.array(images)\n",
    "   \n",
    "    return images, persons\n",
    "            \n",
    "(D, labels) = construct_data_frame()"
   ]
  },
  {
   "cell_type": "markdown",
   "id": "619e14f1",
   "metadata": {
    "papermill": {
     "duration": 0.038819,
     "end_time": "2022-03-12T12:55:43.485105",
     "exception": false,
     "start_time": "2022-03-12T12:55:43.446286",
     "status": "completed"
    },
    "tags": []
   },
   "source": [
    "# Train-Test Split"
   ]
  },
  {
   "cell_type": "code",
   "execution_count": 4,
   "id": "a0db3bac",
   "metadata": {
    "execution": {
     "iopub.execute_input": "2022-03-12T12:55:43.634056Z",
     "iopub.status.busy": "2022-03-12T12:55:43.610434Z",
     "iopub.status.idle": "2022-03-12T12:55:45.514702Z",
     "shell.execute_reply": "2022-03-12T12:55:45.513949Z",
     "shell.execute_reply.started": "2022-03-12T11:27:11.880797Z"
    },
    "papermill": {
     "duration": 1.98812,
     "end_time": "2022-03-12T12:55:45.514919",
     "exception": false,
     "start_time": "2022-03-12T12:55:43.526799",
     "status": "completed"
    },
    "tags": []
   },
   "outputs": [],
   "source": [
    "def custom_train_test_split(data, labels, samples_no, train_indices):\n",
    "    X_train = []\n",
    "    y_train = []\n",
    "    X_test = []\n",
    "    y_test = []\n",
    "    for i in range(samples_no):\n",
    "        if i%10 in train_indices:\n",
    "            X_train.append(data[i])\n",
    "            y_train.append(labels[i])\n",
    "        else:\n",
    "            X_test.append(data[i])\n",
    "            y_test.append(labels[i])\n",
    "    return X_train, y_train, X_test, y_test\n",
    "X_train, y_train, X_test, y_test = custom_train_test_split(D, labels, len(D), [0, 2, 4, 6, 8])\n",
    "train_data = pd.DataFrame(X_train,index=y_train)"
   ]
  },
  {
   "cell_type": "code",
   "execution_count": 5,
   "id": "f5527f18",
   "metadata": {},
   "outputs": [],
   "source": [
    "def train_test_split(data, labels, samples_no, train_indices):\n",
    "    X_train = []\n",
    "    y_train = []\n",
    "    X_test = []\n",
    "    y_test = []\n",
    "    count=1\n",
    "    for i in range(samples_no):\n",
    "        if count>=10:\n",
    "            X_train.append(data[i])\n",
    "            y_train.append(labels[i])\n",
    "        if count<=3:\n",
    "            X_test.append(data[i])\n",
    "            y_test.append(labels[i])\n",
    "        count+=1\n",
    "        if count  == 11:\n",
    "            count = 0\n",
    "    return X_train, y_train, X_test, y_test\n",
    "X_train, y_train, X_test, y_test = train_test_split(D, labels, len(D), [0, 2, 4, 6, 8])\n",
    "train_data = pd.DataFrame(X_train,index=y_train)"
   ]
  },
  {
   "cell_type": "code",
   "execution_count": 6,
   "id": "b98fd30b",
   "metadata": {
    "execution": {
     "iopub.execute_input": "2022-03-12T12:55:45.604686Z",
     "iopub.status.busy": "2022-03-12T12:55:45.603801Z",
     "iopub.status.idle": "2022-03-12T12:55:45.605432Z",
     "shell.execute_reply": "2022-03-12T12:55:45.605940Z",
     "shell.execute_reply.started": "2022-03-12T11:27:16.934050Z"
    },
    "papermill": {
     "duration": 0.050874,
     "end_time": "2022-03-12T12:55:45.606139",
     "exception": false,
     "start_time": "2022-03-12T12:55:45.555265",
     "status": "completed"
    },
    "tags": []
   },
   "outputs": [],
   "source": [
    "def classify(X_train, y_train, X_test, y_test, n_neighbors, confusion_matrix_needed=False):\n",
    "    simple_classifier = KNeighborsClassifier(n_neighbors=n_neighbors)\n",
    "    simple_classifier.fit(X_train, y_train)\n",
    "    test_samples = len(X_test)\n",
    "    acc = 0\n",
    "    y_predict = []\n",
    "    for i in range(test_samples):\n",
    "        result = simple_classifier.predict([X_test[i]])\n",
    "        y_predict.append(result)\n",
    "        if result == y_test[i]:\n",
    "            acc += 1\n",
    "        \n",
    "    acc /= test_samples\n",
    "    print(f'Acc at K = {n_neighbors}: {acc*100} %')\n",
    "    if confusion_matrix_needed:\n",
    "        conf_matrix = confusion_matrix(y_test, y_predict)\n",
    "        return conf_matrix, acc\n",
    "    return acc"
   ]
  },
  {
   "cell_type": "markdown",
   "id": "3bfd5c0d",
   "metadata": {
    "papermill": {
     "duration": 0.038897,
     "end_time": "2022-03-12T12:55:45.860069",
     "exception": false,
     "start_time": "2022-03-12T12:55:45.821172",
     "status": "completed"
    },
    "tags": []
   },
   "source": [
    "# PCA"
   ]
  },
  {
   "cell_type": "markdown",
   "id": "bf1e8088",
   "metadata": {
    "papermill": {
     "duration": 0.038931,
     "end_time": "2022-03-12T12:55:45.938216",
     "exception": false,
     "start_time": "2022-03-12T12:55:45.899285",
     "status": "completed"
    },
    "tags": []
   },
   "source": [
    "**Calculating mean**"
   ]
  },
  {
   "cell_type": "code",
   "execution_count": 7,
   "id": "ef223836",
   "metadata": {
    "execution": {
     "iopub.execute_input": "2022-03-12T12:55:46.023520Z",
     "iopub.status.busy": "2022-03-12T12:55:46.022466Z",
     "iopub.status.idle": "2022-03-12T12:55:46.025558Z",
     "shell.execute_reply": "2022-03-12T12:55:46.024955Z",
     "shell.execute_reply.started": "2022-03-12T11:27:25.836433Z"
    },
    "papermill": {
     "duration": 0.047205,
     "end_time": "2022-03-12T12:55:46.025723",
     "exception": false,
     "start_time": "2022-03-12T12:55:45.978518",
     "status": "completed"
    },
    "tags": []
   },
   "outputs": [],
   "source": [
    "def calculate_mean(data):\n",
    "    return np.mean(data)"
   ]
  },
  {
   "cell_type": "markdown",
   "id": "250144c7",
   "metadata": {
    "papermill": {
     "duration": 0.038621,
     "end_time": "2022-03-12T12:55:46.105384",
     "exception": false,
     "start_time": "2022-03-12T12:55:46.066763",
     "status": "completed"
    },
    "tags": []
   },
   "source": [
    "**Centralize data**"
   ]
  },
  {
   "cell_type": "code",
   "execution_count": 8,
   "id": "ff8c2cb2",
   "metadata": {
    "execution": {
     "iopub.execute_input": "2022-03-12T12:55:46.190833Z",
     "iopub.status.busy": "2022-03-12T12:55:46.189943Z",
     "iopub.status.idle": "2022-03-12T12:55:46.191887Z",
     "shell.execute_reply": "2022-03-12T12:55:46.192346Z",
     "shell.execute_reply.started": "2022-03-12T11:27:29.259968Z"
    },
    "papermill": {
     "duration": 0.048005,
     "end_time": "2022-03-12T12:55:46.192577",
     "exception": false,
     "start_time": "2022-03-12T12:55:46.144572",
     "status": "completed"
    },
    "tags": []
   },
   "outputs": [],
   "source": [
    "def centeralize(data):\n",
    "    return data - calculate_mean(data)"
   ]
  },
  {
   "cell_type": "markdown",
   "id": "e28d2055",
   "metadata": {
    "papermill": {
     "duration": 0.039278,
     "end_time": "2022-03-12T12:55:46.270959",
     "exception": false,
     "start_time": "2022-03-12T12:55:46.231681",
     "status": "completed"
    },
    "tags": []
   },
   "source": [
    "**Covariance Matrix**"
   ]
  },
  {
   "cell_type": "code",
   "execution_count": 9,
   "id": "1f192880",
   "metadata": {
    "execution": {
     "iopub.execute_input": "2022-03-12T12:55:46.357194Z",
     "iopub.status.busy": "2022-03-12T12:55:46.356526Z",
     "iopub.status.idle": "2022-03-12T12:55:46.359949Z",
     "shell.execute_reply": "2022-03-12T12:55:46.359340Z",
     "shell.execute_reply.started": "2022-03-12T11:27:31.760009Z"
    },
    "papermill": {
     "duration": 0.048091,
     "end_time": "2022-03-12T12:55:46.360096",
     "exception": false,
     "start_time": "2022-03-12T12:55:46.312005",
     "status": "completed"
    },
    "tags": []
   },
   "outputs": [],
   "source": [
    "def calculate_covariance_matrix(data):\n",
    "    z = centeralize(data)\n",
    "    return (np.matmul(np.transpose(z), z)) / len(data)"
   ]
  },
  {
   "cell_type": "markdown",
   "id": "e5f07d03",
   "metadata": {
    "papermill": {
     "duration": 0.038744,
     "end_time": "2022-03-12T12:55:46.439157",
     "exception": false,
     "start_time": "2022-03-12T12:55:46.400413",
     "status": "completed"
    },
    "tags": []
   },
   "source": [
    "**Eigen values, Eigen vectors**"
   ]
  },
  {
   "cell_type": "code",
   "execution_count": 10,
   "id": "454d00fc",
   "metadata": {
    "execution": {
     "iopub.execute_input": "2022-03-12T12:55:46.526841Z",
     "iopub.status.busy": "2022-03-12T12:55:46.526165Z",
     "iopub.status.idle": "2022-03-12T12:55:46.528946Z",
     "shell.execute_reply": "2022-03-12T12:55:46.528395Z",
     "shell.execute_reply.started": "2022-03-12T11:27:34.498502Z"
    },
    "papermill": {
     "duration": 0.049952,
     "end_time": "2022-03-12T12:55:46.529101",
     "exception": false,
     "start_time": "2022-03-12T12:55:46.479149",
     "status": "completed"
    },
    "tags": []
   },
   "outputs": [],
   "source": [
    "def calculate_eigen_vectors(data):\n",
    "    cov = calculate_covariance_matrix(data)\n",
    "    eig_values, eig_vectors = np.linalg.eigh(cov)\n",
    "    idx = eig_values.argsort()[::-1]   \n",
    "    eig_values = eig_values[idx]\n",
    "    eig_vectors = eig_vectors[:,idx]\n",
    "    return eig_values, eig_vectors"
   ]
  },
  {
   "cell_type": "markdown",
   "id": "a8058fc5",
   "metadata": {
    "papermill": {
     "duration": 0.038777,
     "end_time": "2022-03-12T12:55:46.606538",
     "exception": false,
     "start_time": "2022-03-12T12:55:46.567761",
     "status": "completed"
    },
    "tags": []
   },
   "source": [
    "**Choosing dimensionality**"
   ]
  },
  {
   "cell_type": "code",
   "execution_count": 11,
   "id": "6b91bea3",
   "metadata": {
    "execution": {
     "iopub.execute_input": "2022-03-12T12:55:46.691167Z",
     "iopub.status.busy": "2022-03-12T12:55:46.690518Z",
     "iopub.status.idle": "2022-03-12T12:55:46.693629Z",
     "shell.execute_reply": "2022-03-12T12:55:46.693096Z",
     "shell.execute_reply.started": "2022-03-12T11:27:37.189455Z"
    },
    "papermill": {
     "duration": 0.049108,
     "end_time": "2022-03-12T12:55:46.693765",
     "exception": false,
     "start_time": "2022-03-12T12:55:46.644657",
     "status": "completed"
    },
    "tags": []
   },
   "outputs": [],
   "source": [
    "def dimensionality(alpha, eig_values):\n",
    "    sum = np.sum(eig_values)\n",
    "    r = 0\n",
    "    i = 0\n",
    "    for value in eig_values: \n",
    "        r = r + eig_values[i]\n",
    "        i = i + 1\n",
    "        if (r / sum >= alpha):\n",
    "            break\n",
    "    return i"
   ]
  },
  {
   "cell_type": "code",
   "execution_count": 12,
   "id": "294078c4",
   "metadata": {
    "execution": {
     "iopub.execute_input": "2022-03-12T12:55:46.777831Z",
     "iopub.status.busy": "2022-03-12T12:55:46.777170Z",
     "iopub.status.idle": "2022-03-12T12:55:46.779842Z",
     "shell.execute_reply": "2022-03-12T12:55:46.780335Z",
     "shell.execute_reply.started": "2022-03-12T11:27:39.843147Z"
    },
    "papermill": {
     "duration": 0.047772,
     "end_time": "2022-03-12T12:55:46.780546",
     "exception": false,
     "start_time": "2022-03-12T12:55:46.732774",
     "status": "completed"
    },
    "tags": []
   },
   "outputs": [],
   "source": [
    "def calculate_reduced_dimensions(alpha_values, eig_values):\n",
    "    reduced_dimensions = []\n",
    "    for alpha in alpha_values:\n",
    "        reduced_dimensions.append(dimensionality(alpha, eig_values))\n",
    "    return reduced_dimensions"
   ]
  },
  {
   "cell_type": "markdown",
   "id": "d5fc9d87",
   "metadata": {
    "papermill": {
     "duration": 0.03915,
     "end_time": "2022-03-12T12:55:46.858462",
     "exception": false,
     "start_time": "2022-03-12T12:55:46.819312",
     "status": "completed"
    },
    "tags": []
   },
   "source": [
    "# **KNN and KNN tuning for different alpha values**"
   ]
  },
  {
   "cell_type": "code",
   "execution_count": 13,
   "id": "f2b8e3b0",
   "metadata": {
    "execution": {
     "iopub.execute_input": "2022-03-12T12:55:46.942800Z",
     "iopub.status.busy": "2022-03-12T12:55:46.942078Z",
     "iopub.status.idle": "2022-03-12T12:55:46.945330Z",
     "shell.execute_reply": "2022-03-12T12:55:46.944648Z",
     "shell.execute_reply.started": "2022-03-12T11:27:42.750710Z"
    },
    "papermill": {
     "duration": 0.048077,
     "end_time": "2022-03-12T12:55:46.945472",
     "exception": false,
     "start_time": "2022-03-12T12:55:46.897395",
     "status": "completed"
    },
    "tags": []
   },
   "outputs": [],
   "source": [
    "def PCA(data, alpha_values):\n",
    "    eig_values, eig_vectors = calculate_eigen_vectors(data)\n",
    "    r = calculate_reduced_dimensions(alpha_values, eig_values)\n",
    "    return r, eig_vectors"
   ]
  },
  {
   "cell_type": "code",
   "execution_count": 14,
   "id": "2d87162c",
   "metadata": {
    "execution": {
     "iopub.execute_input": "2022-03-12T12:55:47.033975Z",
     "iopub.status.busy": "2022-03-12T12:55:47.033261Z",
     "iopub.status.idle": "2022-03-12T12:58:26.473925Z",
     "shell.execute_reply": "2022-03-12T12:58:26.473161Z",
     "shell.execute_reply.started": "2022-03-12T09:09:19.999913Z"
    },
    "papermill": {
     "duration": 159.489471,
     "end_time": "2022-03-12T12:58:26.474222",
     "exception": false,
     "start_time": "2022-03-12T12:55:46.984751",
     "status": "completed"
    },
    "tags": []
   },
   "outputs": [
    {
     "name": "stdout",
     "output_type": "stream",
     "text": [
      "Acc at K = 1: 59.183673469387756 %\n",
      "Acc at K = 3: 29.25170068027211 %\n",
      "Acc at K = 5: 21.768707482993197 %\n",
      "Acc at K = 7: 16.3265306122449 %\n"
     ]
    },
    {
     "data": {
      "image/png": "[encoded data removed]",
      "text/plain": [
       "<Figure size 432x288 with 1 Axes>"
      ]
     },
     "metadata": {
      "needs_background": "light"
     },
     "output_type": "display_data"
    },
    {
     "name": "stdout",
     "output_type": "stream",
     "text": [
      "Acc at K = 1: 58.50340136054422 %\n",
      "Acc at K = 3: 29.25170068027211 %\n",
      "Acc at K = 5: 21.08843537414966 %\n",
      "Acc at K = 7: 14.965986394557824 %\n"
     ]
    },
    {
     "data": {
      "image/png": "[encoded data removed]",
      "text/plain": [
       "<Figure size 432x288 with 1 Axes>"
      ]
     },
     "metadata": {
      "needs_background": "light"
     },
     "output_type": "display_data"
    },
    {
     "name": "stdout",
     "output_type": "stream",
     "text": [
      "Acc at K = 1: 57.14285714285714 %\n",
      "Acc at K = 3: 27.89115646258503 %\n",
      "Acc at K = 5: 21.768707482993197 %\n",
      "Acc at K = 7: 16.3265306122449 %\n"
     ]
    },
    {
     "data": {
      "image/png": "[encoded data removed]",
      "text/plain": [
       "<Figure size 432x288 with 1 Axes>"
      ]
     },
     "metadata": {
      "needs_background": "light"
     },
     "output_type": "display_data"
    },
    {
     "name": "stdout",
     "output_type": "stream",
     "text": [
      "Acc at K = 1: 57.82312925170068 %\n",
      "Acc at K = 3: 29.931972789115648 %\n",
      "Acc at K = 5: 23.12925170068027 %\n",
      "Acc at K = 7: 14.965986394557824 %\n"
     ]
    },
    {
     "data": {
      "image/png": "[encoded data removed]",
      "text/plain": [
       "<Figure size 432x288 with 1 Axes>"
      ]
     },
     "metadata": {
      "needs_background": "light"
     },
     "output_type": "display_data"
    }
   ],
   "source": [
    "mean = calculate_mean(train_data)\n",
    "z = centeralize(train_data)\n",
    "r, eig_vectors = PCA(train_data, [0.8, 0.85, 0.9, 0.95])\n",
    "for i in r:\n",
    "    U = eig_vectors[:,0:i].T\n",
    "    projected_train_data = np.array(np.matmul(z, U.T))\n",
    "    projected_test_data = np.array(np.matmul(X_test - np.array(mean), U.T))\n",
    "    acc = []\n",
    "    k_values = [1, 3, 5, 7]\n",
    "    for k in k_values:\n",
    "        acc.append(classify(projected_train_data, y_train, projected_test_data, y_test, k))\n",
    "\n",
    "    plt.plot(k_values, acc)\n",
    "    plt.xlabel('Number of neighbors')\n",
    "    plt.ylabel('Acc')\n",
    "    plt.title('K tunning graph')\n",
    "    plt.show()"
   ]
  },
  {
   "cell_type": "code",
   "execution_count": null,
   "id": "0de315d2",
   "metadata": {},
   "outputs": [],
   "source": []
  },
  {
   "cell_type": "code",
   "execution_count": null,
   "id": "d3c7d366",
   "metadata": {},
   "outputs": [],
   "source": []
  }
 ],
 "metadata": {
  "kernelspec": {
   "display_name": "Python 3 (ipykernel)",
   "language": "python",
   "name": "python3"
  },
  "language_info": {
   "codemirror_mode": {
    "name": "ipython",
    "version": 3
   },
   "file_extension": ".py",
   "mimetype": "text/x-python",
   "name": "python",
   "nbconvert_exporter": "python",
   "pygments_lexer": "ipython3",
   "version": "3.9.7"
  },
  "papermill": {
   "default_parameters": {},
   "duration": 2746.490161,
   "end_time": "2022-03-12T13:41:13.907122",
   "environment_variables": {},
   "exception": null,
   "input_path": "__notebook__.ipynb",
   "output_path": "__notebook__.ipynb",
   "parameters": {},
   "start_time": "2022-03-12T12:55:27.416961",
   "version": "2.3.3"
  }
 },
 "nbformat": 4,
 "nbformat_minor": 5
}
